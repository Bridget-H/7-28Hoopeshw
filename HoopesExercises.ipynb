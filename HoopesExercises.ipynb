{
 "cells": [
  {
   "cell_type": "markdown",
   "metadata": {},
   "source": [
    "### Exercise 1"
   ]
  },
  {
   "cell_type": "markdown",
   "metadata": {},
   "source": [
    "Given an array of integers nums and an integer target, return indices of the two numbers such that they add up to target.\n",
    "You may assume that each input would have exactly one solution, and you may not use the same element twice.\n",
    "You can return the answer in any order."
   ]
  },
  {
   "cell_type": "markdown",
   "metadata": {},
   "source": [
    "Input: <code>nums = [2,7,11,15], target = 9</code><br>\n",
    "Output: <code>[0,1]</code><br>\n",
    "Output: Because <code>nums[0] + nums[1] == 9</code>, we return <code>[0, 1].</code>\n",
    "\n",
    "Input: <code>nums = [3,2,4], target = 6</code><br>\n",
    "Output: <code>[1,2]</code>\n",
    "\n",
    "Input: <code>nums = [3,3], target = 6</code><br>\n",
    "Output: <code>[0,1]</code>"
   ]
  },
  {
   "cell_type": "markdown",
   "metadata": {},
   "source": [
    "\n",
    "\n",
    "\n",
    "\n"
   ]
  },
  {
   "cell_type": "markdown",
   "metadata": {},
   "source": [
    "### Exercise 2"
   ]
  },
  {
   "cell_type": "markdown",
   "metadata": {},
   "source": [
    "Given a non-empty array of integers nums, every element appears twice except for one. Find that single one.\n",
    "You must implement a solution with a linear runtime complexity and use only constant extra space."
   ]
  },
  {
   "cell_type": "markdown",
   "metadata": {},
   "source": [
    "Input: <code>nums = [2,2,1]</code><br>\n",
    "Output: <code>1</code><br>\n",
    "\n",
    "Input: <code>nums = [4,1,2,1,2]</code><br>\n",
    "Output: <code>4</code>\n",
    "\n",
    "Input: <code>nums = [1]</code><br>\n",
    "Output: <code>1</code>"
   ]
  },
  {
   "cell_type": "code",
   "execution_count": 50,
   "metadata": {},
   "outputs": [
    {
     "name": "stdout",
     "output_type": "stream",
     "text": [
      "(0, 0)\n"
     ]
    }
   ],
   "source": [
    "def two_sum(numbers, target):\n",
    "    for i in numbers:\n",
    "        for j in numbers:\n",
    "            x = numbers.index(i)\n",
    "            y = numbers.index(j)\n",
    "            if i + j == target :\n",
    "                z = [x,y]\n",
    "                \n",
    "                return tuple(z)\n",
    "    \n",
    "    \n",
    "    \n",
    "print(two_sum([2,2,3], 4))\n",
    "\n",
    "\n",
    "\n"
   ]
  },
  {
   "cell_type": "code",
   "execution_count": 46,
   "metadata": {},
   "outputs": [],
   "source": [
    "def two_sum(numbers, target):\n",
    "    for i in numbers:\n",
    "        for j in numbers:\n",
    "            if i !=j and i + j == target and j > i:\n",
    "                x = numbers.index(i)\n",
    "                y = numbers.index(j)\n",
    "                z = [x,y]\n",
    "                return tuple(z)"
   ]
  },
  {
   "cell_type": "code",
   "execution_count": 51,
   "metadata": {},
   "outputs": [
    {
     "ename": "SyntaxError",
     "evalue": "invalid syntax (<ipython-input-51-94bd0b16d858>, line 1)",
     "output_type": "error",
     "traceback": [
      "\u001b[1;36m  File \u001b[1;32m\"<ipython-input-51-94bd0b16d858>\"\u001b[1;36m, line \u001b[1;32m1\u001b[0m\n\u001b[1;33m    Given a non-empty array of integers nums, every element appears twice except for one. Find that single one.\u001b[0m\n\u001b[1;37m          ^\u001b[0m\n\u001b[1;31mSyntaxError\u001b[0m\u001b[1;31m:\u001b[0m invalid syntax\n"
     ]
    }
   ],
   "source": [
    "Given a non-empty array of integers nums, every element appears twice except for one. Find that single one.\n",
    "You must implement a solution with a linear runtime complexity and use only constant extra space."
   ]
  },
  {
   "cell_type": "code",
   "execution_count": 104,
   "metadata": {},
   "outputs": [
    {
     "name": "stdout",
     "output_type": "stream",
     "text": [
      "[1]\n"
     ]
    }
   ],
   "source": [
    "def function(nums):\n",
    "    res = []\n",
    "    w = nums\n",
    "    y = []\n",
    "    for i in nums:\n",
    "        if i not in res:\n",
    "            res.append(i)\n",
    " #   return(res)\n",
    "    for q in res:\n",
    "        if q in w:\n",
    "            w.remove(q)\n",
    "#            res.remove(w)\n",
    "    for e in res:\n",
    "        if e not in w:\n",
    "            y.append(e)\n",
    "    return y\n",
    "\n",
    "print(function([2,2,1,4,5,5,5,4,4,6,6]))"
   ]
  },
  {
   "cell_type": "code",
   "execution_count": null,
   "metadata": {},
   "outputs": [],
   "source": []
  }
 ],
 "metadata": {
  "kernelspec": {
   "display_name": "Python 3",
   "language": "python",
   "name": "python3"
  },
  "language_info": {
   "codemirror_mode": {
    "name": "ipython",
    "version": 3
   },
   "file_extension": ".py",
   "mimetype": "text/x-python",
   "name": "python",
   "nbconvert_exporter": "python",
   "pygments_lexer": "ipython3",
   "version": "3.8.8"
  }
 },
 "nbformat": 4,
 "nbformat_minor": 4
}
